{
 "cells": [
  {
   "cell_type": "code",
   "execution_count": 1,
   "id": "5b33214b",
   "metadata": {},
   "outputs": [],
   "source": [
    "import torch\n",
    "import torch.nn as nn\n",
    "import torch.nn.functional as F\n",
    "import torch.optim as optim\n",
    "from torchvision import datasets, transforms\n",
    "import albumentations as A\n",
    "from albumentations.pytorch.transforms import ToTensorV2"
   ]
  },
  {
   "cell_type": "code",
   "execution_count": 2,
   "id": "423607fc",
   "metadata": {},
   "outputs": [
    {
     "name": "stdout",
     "output_type": "stream",
     "text": [
      "Files already downloaded and verified\n"
     ]
    }
   ],
   "source": [
    "simple_transform=transforms.Compose([transforms.ToTensor()])\n",
    "exp_dataset=datasets.CIFAR10('./data',train=True,download=True,transform=simple_transform)"
   ]
  },
  {
   "cell_type": "code",
   "execution_count": 3,
   "id": "1c01b6d1",
   "metadata": {},
   "outputs": [
    {
     "name": "stdout",
     "output_type": "stream",
     "text": [
      "Mean per channel: tensor([0.4914, 0.4822, 0.4465])\n",
      "Std per channel: tensor([0.2470, 0.2435, 0.2616])\n"
     ]
    }
   ],
   "source": [
    "train_loader = torch.utils.data.DataLoader(exp_dataset, batch_size=len(exp_dataset), shuffle=False)\n",
    "data = next(iter(train_loader))\n",
    "\n",
    "# Calculate mean and std per channel\n",
    "mean = data[0].mean(dim=(0, 2, 3))  # Calculate mean across all images and height, width dimensions\n",
    "std = data[0].std(dim=(0, 2, 3))    # Calculate std across all images and height, width dimensions\n",
    "\n",
    "print(\"Mean per channel:\", mean)\n",
    "print(\"Std per channel:\", std)"
   ]
  },
  {
   "cell_type": "code",
   "execution_count": 4,
   "id": "1f8ed72f",
   "metadata": {},
   "outputs": [
    {
     "name": "stdout",
     "output_type": "stream",
     "text": [
      "Files already downloaded and verified\n",
      "Files already downloaded and verified\n"
     ]
    }
   ],
   "source": [
    "import cv2\n",
    "import torchvision\n",
    "\n",
    "cv2.setNumThreads(0)\n",
    "cv2.ocl.setUseOpenCL(False)\n",
    "\n",
    "\n",
    "class Cifar10SearchDataset(torchvision.datasets.CIFAR10):\n",
    "    def __init__(self, root=\"~/data/cifar10\", train=True, download=True, transform=None):\n",
    "        super().__init__(root=root, train=train, download=download, transform=transform)\n",
    "\n",
    "    def __getitem__(self, index):\n",
    "        image, label = self.data[index], self.targets[index]\n",
    "\n",
    "        if self.transform is not None:\n",
    "            transformed = self.transform(image=image)\n",
    "            image = transformed[\"image\"]\n",
    "\n",
    "        return image, label\n",
    "train_transform=A.Compose([\n",
    "                            A.Normalize((0.4914, 0.4822, 0.4465),(0.2470, 0.2435, 0.2616)),\n",
    "                            A.RandomCrop (32, 32, always_apply=False, p=4),\n",
    "                            A.HorizontalFlip(0.5),\n",
    "                           A.CoarseDropout(max_holes = 1, max_height=8, max_width=8, min_holes = 1, min_height=8, min_width=8, fill_value=(0.4914, 0.4822, 0.4465), mask_fill_value=None),\n",
    "                            ToTensorV2()\n",
    "                           \n",
    "                                   ])\n",
    "test_transform=A.Compose([A.Normalize((0.4914, 0.4822, 0.4465),(0.2470, 0.2435, 0.2616)),\n",
    "                          ToTensorV2()\n",
    "                                   ])\n",
    "train_data=Cifar10SearchDataset('./data',train=True,download=True,transform=train_transform)\n",
    "test_data=Cifar10SearchDataset('./data',train=False,download=True,transform=test_transform)"
   ]
  },
  {
   "cell_type": "code",
   "execution_count": 5,
   "id": "ef7357d1",
   "metadata": {},
   "outputs": [
    {
     "name": "stdout",
     "output_type": "stream",
     "text": [
      "CUDA Available? False\n"
     ]
    }
   ],
   "source": [
    "SEED = 1\n",
    "\n",
    "# CUDA?\n",
    "cuda = torch.cuda.is_available()\n",
    "print(\"CUDA Available?\", cuda)\n",
    "\n",
    "# For reproducibility\n",
    "torch.manual_seed(SEED)\n",
    "\n",
    "if cuda:\n",
    "    torch.cuda.manual_seed(SEED)\n",
    "\n",
    "# dataloader arguments - something you'll fetch these from cmdprmt\n",
    "dataloader_args = dict(shuffle=True, batch_size=512, num_workers=4, pin_memory=True) if cuda else dict(shuffle=True, batch_size=64)\n",
    "\n",
    "# train dataloader\n",
    "train_loader = torch.utils.data.DataLoader(train_data, **dataloader_args)\n",
    "\n",
    "# test dataloader\n",
    "test_loader = torch.utils.data.DataLoader(test_data, **dataloader_args)"
   ]
  },
  {
   "cell_type": "code",
   "execution_count": 6,
   "id": "b4fbb2fa",
   "metadata": {},
   "outputs": [
    {
     "name": "stdout",
     "output_type": "stream",
     "text": [
      "Requirement already satisfied: torchsummary in /opt/anaconda3/lib/python3.11/site-packages (1.5.1)\n",
      "cpu\n",
      "----------------------------------------------------------------\n",
      "        Layer (type)               Output Shape         Param #\n",
      "================================================================\n",
      "            Conv2d-1           [-1, 64, 32, 32]           1,728\n",
      "       BatchNorm2d-2           [-1, 64, 32, 32]             128\n",
      "              ReLU-3           [-1, 64, 32, 32]               0\n",
      "            Conv2d-4          [-1, 128, 32, 32]          73,728\n",
      "         MaxPool2d-5          [-1, 128, 16, 16]               0\n",
      "       BatchNorm2d-6          [-1, 128, 16, 16]             256\n",
      "              ReLU-7          [-1, 128, 16, 16]               0\n",
      "            Conv2d-8          [-1, 128, 16, 16]         147,456\n",
      "       BatchNorm2d-9          [-1, 128, 16, 16]             256\n",
      "             ReLU-10          [-1, 128, 16, 16]               0\n",
      "           Conv2d-11          [-1, 128, 16, 16]         147,456\n",
      "      BatchNorm2d-12          [-1, 128, 16, 16]             256\n",
      "             ReLU-13          [-1, 128, 16, 16]               0\n",
      "           Conv2d-14          [-1, 256, 16, 16]         294,912\n",
      "        MaxPool2d-15            [-1, 256, 8, 8]               0\n",
      "      BatchNorm2d-16            [-1, 256, 8, 8]             512\n",
      "             ReLU-17            [-1, 256, 8, 8]               0\n",
      "           Conv2d-18            [-1, 512, 8, 8]       1,179,648\n",
      "        MaxPool2d-19            [-1, 512, 4, 4]               0\n",
      "      BatchNorm2d-20            [-1, 512, 4, 4]           1,024\n",
      "             ReLU-21            [-1, 512, 4, 4]               0\n",
      "           Conv2d-22            [-1, 512, 4, 4]       2,359,296\n",
      "      BatchNorm2d-23            [-1, 512, 4, 4]           1,024\n",
      "             ReLU-24            [-1, 512, 4, 4]               0\n",
      "           Conv2d-25            [-1, 512, 4, 4]       2,359,296\n",
      "      BatchNorm2d-26            [-1, 512, 4, 4]           1,024\n",
      "             ReLU-27            [-1, 512, 4, 4]               0\n",
      "        MaxPool2d-28            [-1, 512, 1, 1]               0\n",
      "           Linear-29                   [-1, 50]          25,650\n",
      "           Linear-30                   [-1, 10]             510\n",
      "================================================================\n",
      "Total params: 6,594,160\n",
      "Trainable params: 6,594,160\n",
      "Non-trainable params: 0\n",
      "----------------------------------------------------------------\n",
      "Input size (MB): 0.01\n",
      "Forward/backward pass size (MB): 6.44\n",
      "Params size (MB): 25.15\n",
      "Estimated Total Size (MB): 31.61\n",
      "----------------------------------------------------------------\n"
     ]
    }
   ],
   "source": [
    "from model import Net\n",
    "!pip install torchsummary\n",
    "from torchsummary import summary\n",
    "use_cuda = torch.cuda.is_available()\n",
    "device = torch.device(\"cuda\" if use_cuda else \"cpu\")\n",
    "print(device)\n",
    "model = Net().to(device)\n",
    "summary(model, input_size=(3, 32, 32))"
   ]
  },
  {
   "cell_type": "code",
   "execution_count": 7,
   "id": "088704cb",
   "metadata": {},
   "outputs": [
    {
     "name": "stderr",
     "output_type": "stream",
     "text": [
      "/Users/yeswanth/anaconda3/lib/python3.10/site-packages/torch_lr_finder/lr_finder.py:5: TqdmWarning: IProgress not found. Please update jupyter and ipywidgets. See https://ipywidgets.readthedocs.io/en/stable/user_install.html\n",
      "  from tqdm.autonotebook import tqdm\n",
      " 84%|███████████████████████████████████▎      | 84/100 [00:11<00:02,  7.46it/s]\n"
     ]
    },
    {
     "name": "stdout",
     "output_type": "stream",
     "text": [
      "Stopping early, the loss has diverged\n",
      "Learning rate search finished. See the graph with {finder_name}.plot()\n",
      "LR suggestion: steepest gradient\n",
      "Suggested LR: 3.68E-02\n"
     ]
    },
    {
     "data": {
      "image/png": "[encoded data removed]",
      "text/plain": [
       "<Figure size 640x480 with 1 Axes>"
      ]
     },
     "metadata": {},
     "output_type": "display_data"
    }
   ],
   "source": [
    "from torch_lr_finder import LRFinder\n",
    "criterion = nn.CrossEntropyLoss()\n",
    "optimizer = optim.Adam(model.parameters(), lr=0.01, weight_decay=1e-2)\n",
    "lr_finder = LRFinder(model, optimizer, criterion, device=\"mps\")\n",
    "lr_finder.range_test(train_loader,end_lr=1, num_iter=100, step_mode=\"exp\")\n",
    "lr_finder.plot(log_lr=False)\n",
    "lr_finder.reset()"
   ]
  },
  {
   "cell_type": "code",
   "execution_count": 8,
   "id": "c75f6d72",
   "metadata": {},
   "outputs": [
    {
     "name": "stdout",
     "output_type": "stream",
     "text": [
      "1\n"
     ]
    },
    {
     "name": "stderr",
     "output_type": "stream",
     "text": [
      "loss=1.150476098060608 batch_id=781 Accuracy=41.92: 100%|█| 782/782 [01:42<00:00\n"
     ]
    },
    {
     "name": "stdout",
     "output_type": "stream",
     "text": [
      "\n",
      "Test set: Average loss: 1.3622, Accuracy: 5466/10000 (55%)\n",
      "\n",
      "2\n"
     ]
    },
    {
     "name": "stderr",
     "output_type": "stream",
     "text": [
      "loss=1.1159662008285522 batch_id=781 Accuracy=67.25: 100%|█| 782/782 [01:38<00:0\n"
     ]
    },
    {
     "name": "stdout",
     "output_type": "stream",
     "text": [
      "\n",
      "Test set: Average loss: 0.8432, Accuracy: 7222/10000 (72%)\n",
      "\n",
      "3\n"
     ]
    },
    {
     "name": "stderr",
     "output_type": "stream",
     "text": [
      "loss=0.6900853514671326 batch_id=781 Accuracy=74.25: 100%|█| 782/782 [01:39<00:0\n"
     ]
    },
    {
     "name": "stdout",
     "output_type": "stream",
     "text": [
      "\n",
      "Test set: Average loss: 0.8073, Accuracy: 7246/10000 (72%)\n",
      "\n",
      "4\n"
     ]
    },
    {
     "name": "stderr",
     "output_type": "stream",
     "text": [
      "loss=0.8198038935661316 batch_id=781 Accuracy=75.99: 100%|█| 782/782 [01:38<00:0\n"
     ]
    },
    {
     "name": "stdout",
     "output_type": "stream",
     "text": [
      "\n",
      "Test set: Average loss: 1.0585, Accuracy: 6836/10000 (68%)\n",
      "\n",
      "5\n"
     ]
    },
    {
     "name": "stderr",
     "output_type": "stream",
     "text": [
      "loss=1.6107653379440308 batch_id=781 Accuracy=75.53: 100%|█| 782/782 [01:40<00:0\n"
     ]
    },
    {
     "name": "stdout",
     "output_type": "stream",
     "text": [
      "\n",
      "Test set: Average loss: 1.0632, Accuracy: 6992/10000 (70%)\n",
      "\n",
      "6\n"
     ]
    },
    {
     "name": "stderr",
     "output_type": "stream",
     "text": [
      "loss=0.7773193120956421 batch_id=781 Accuracy=75.77: 100%|█| 782/782 [01:39<00:0\n"
     ]
    },
    {
     "name": "stdout",
     "output_type": "stream",
     "text": [
      "\n",
      "Test set: Average loss: 0.8873, Accuracy: 7218/10000 (72%)\n",
      "\n",
      "7\n"
     ]
    },
    {
     "name": "stderr",
     "output_type": "stream",
     "text": [
      "loss=0.23471561074256897 batch_id=781 Accuracy=76.41: 100%|█| 782/782 [01:39<00:\n"
     ]
    },
    {
     "name": "stdout",
     "output_type": "stream",
     "text": [
      "\n",
      "Test set: Average loss: 0.7355, Accuracy: 7637/10000 (76%)\n",
      "\n",
      "8\n"
     ]
    },
    {
     "name": "stderr",
     "output_type": "stream",
     "text": [
      "loss=0.6294552087783813 batch_id=781 Accuracy=78.10: 100%|█| 782/782 [01:47<00:0\n"
     ]
    },
    {
     "name": "stdout",
     "output_type": "stream",
     "text": [
      "\n",
      "Test set: Average loss: 0.7988, Accuracy: 7387/10000 (74%)\n",
      "\n",
      "9\n"
     ]
    },
    {
     "name": "stderr",
     "output_type": "stream",
     "text": [
      "loss=0.6162096261978149 batch_id=781 Accuracy=79.50: 100%|█| 782/782 [01:50<00:0\n"
     ]
    },
    {
     "name": "stdout",
     "output_type": "stream",
     "text": [
      "\n",
      "Test set: Average loss: 0.7057, Accuracy: 7638/10000 (76%)\n",
      "\n",
      "10\n"
     ]
    },
    {
     "name": "stderr",
     "output_type": "stream",
     "text": [
      "loss=0.546355128288269 batch_id=781 Accuracy=80.61: 100%|█| 782/782 [01:54<00:00\n"
     ]
    },
    {
     "name": "stdout",
     "output_type": "stream",
     "text": [
      "\n",
      "Test set: Average loss: 0.6331, Accuracy: 8009/10000 (80%)\n",
      "\n",
      "11\n"
     ]
    },
    {
     "name": "stderr",
     "output_type": "stream",
     "text": [
      "loss=0.13497884571552277 batch_id=781 Accuracy=83.01: 100%|█| 782/782 [01:53<00:\n"
     ]
    },
    {
     "name": "stdout",
     "output_type": "stream",
     "text": [
      "\n",
      "Test set: Average loss: 0.6934, Accuracy: 7898/10000 (79%)\n",
      "\n",
      "12\n"
     ]
    },
    {
     "name": "stderr",
     "output_type": "stream",
     "text": [
      "loss=1.2856777906417847 batch_id=781 Accuracy=84.33: 100%|█| 782/782 [01:47<00:0\n"
     ]
    },
    {
     "name": "stdout",
     "output_type": "stream",
     "text": [
      "\n",
      "Test set: Average loss: 0.7051, Accuracy: 7929/10000 (79%)\n",
      "\n",
      "13\n"
     ]
    },
    {
     "name": "stderr",
     "output_type": "stream",
     "text": [
      "loss=0.6828190088272095 batch_id=781 Accuracy=86.37: 100%|█| 782/782 [01:45<00:0\n"
     ]
    },
    {
     "name": "stdout",
     "output_type": "stream",
     "text": [
      "\n",
      "Test set: Average loss: 0.6480, Accuracy: 8159/10000 (82%)\n",
      "\n",
      "14\n"
     ]
    },
    {
     "name": "stderr",
     "output_type": "stream",
     "text": [
      "loss=0.09108766913414001 batch_id=781 Accuracy=87.68: 100%|█| 782/782 [01:52<00:\n"
     ]
    },
    {
     "name": "stdout",
     "output_type": "stream",
     "text": [
      "\n",
      "Test set: Average loss: 0.5366, Accuracy: 8296/10000 (83%)\n",
      "\n",
      "15\n"
     ]
    },
    {
     "name": "stderr",
     "output_type": "stream",
     "text": [
      "loss=0.22058948874473572 batch_id=781 Accuracy=89.95: 100%|█| 782/782 [01:45<00:\n"
     ]
    },
    {
     "name": "stdout",
     "output_type": "stream",
     "text": [
      "\n",
      "Test set: Average loss: 0.5682, Accuracy: 8382/10000 (84%)\n",
      "\n",
      "16\n"
     ]
    },
    {
     "name": "stderr",
     "output_type": "stream",
     "text": [
      "loss=0.2186683714389801 batch_id=781 Accuracy=91.71: 100%|█| 782/782 [01:48<00:0\n"
     ]
    },
    {
     "name": "stdout",
     "output_type": "stream",
     "text": [
      "\n",
      "Test set: Average loss: 0.6131, Accuracy: 8367/10000 (84%)\n",
      "\n",
      "17\n"
     ]
    },
    {
     "name": "stderr",
     "output_type": "stream",
     "text": [
      "loss=0.01597379706799984 batch_id=781 Accuracy=93.67: 100%|█| 782/782 [01:51<00:\n"
     ]
    },
    {
     "name": "stdout",
     "output_type": "stream",
     "text": [
      "\n",
      "Test set: Average loss: 0.5863, Accuracy: 8461/10000 (85%)\n",
      "\n",
      "18\n"
     ]
    },
    {
     "name": "stderr",
     "output_type": "stream",
     "text": [
      "loss=0.057969462126493454 batch_id=781 Accuracy=95.00: 100%|█| 782/782 [02:00<00\n"
     ]
    },
    {
     "name": "stdout",
     "output_type": "stream",
     "text": [
      "\n",
      "Test set: Average loss: 0.6032, Accuracy: 8554/10000 (86%)\n",
      "\n",
      "19\n"
     ]
    },
    {
     "name": "stderr",
     "output_type": "stream",
     "text": [
      "loss=0.36232754588127136 batch_id=781 Accuracy=96.47: 100%|█| 782/782 [01:51<00:\n"
     ]
    },
    {
     "name": "stdout",
     "output_type": "stream",
     "text": [
      "\n",
      "Test set: Average loss: 0.5953, Accuracy: 8603/10000 (86%)\n",
      "\n",
      "20\n"
     ]
    },
    {
     "name": "stderr",
     "output_type": "stream",
     "text": [
      "loss=0.09435243904590607 batch_id=781 Accuracy=97.30: 100%|█| 782/782 [01:51<00:\n"
     ]
    },
    {
     "name": "stdout",
     "output_type": "stream",
     "text": [
      "\n",
      "Test set: Average loss: 0.7448, Accuracy: 8479/10000 (85%)\n",
      "\n",
      "21\n"
     ]
    },
    {
     "name": "stderr",
     "output_type": "stream",
     "text": [
      "loss=0.07719388604164124 batch_id=781 Accuracy=98.19: 100%|█| 782/782 [01:52<00:\n"
     ]
    },
    {
     "name": "stdout",
     "output_type": "stream",
     "text": [
      "\n",
      "Test set: Average loss: 0.6152, Accuracy: 8656/10000 (87%)\n",
      "\n",
      "22\n"
     ]
    },
    {
     "name": "stderr",
     "output_type": "stream",
     "text": [
      "loss=0.0028192135505378246 batch_id=781 Accuracy=98.45: 100%|█| 782/782 [01:50<0\n"
     ]
    },
    {
     "name": "stdout",
     "output_type": "stream",
     "text": [
      "\n",
      "Test set: Average loss: 0.6340, Accuracy: 8651/10000 (87%)\n",
      "\n",
      "23\n"
     ]
    },
    {
     "name": "stderr",
     "output_type": "stream",
     "text": [
      "loss=0.21023762226104736 batch_id=781 Accuracy=98.72: 100%|█| 782/782 [02:14<00:\n"
     ]
    },
    {
     "name": "stdout",
     "output_type": "stream",
     "text": [
      "\n",
      "Test set: Average loss: 0.6274, Accuracy: 8669/10000 (87%)\n",
      "\n",
      "24\n"
     ]
    },
    {
     "name": "stderr",
     "output_type": "stream",
     "text": [
      "loss=0.014528946951031685 batch_id=781 Accuracy=98.83: 100%|█| 782/782 [02:31<00\n"
     ]
    },
    {
     "name": "stdout",
     "output_type": "stream",
     "text": [
      "\n",
      "Test set: Average loss: 0.6126, Accuracy: 8686/10000 (87%)\n",
      "\n"
     ]
    }
   ],
   "source": [
    "total_steps=512\n",
    "epochs=24\n",
    "from train import train,test\n",
    "device = torch.device(\"mps\")\n",
    "model = Net().to(device)\n",
    "optimizer = optim.Adam(model.parameters(), lr=0.01,weight_decay=1e-7)\n",
    "scheduler = torch.optim.lr_scheduler.OneCycleLR(optimizer, max_lr=0.0368,epochs=24,total_steps=len(train_loader)*epochs,div_factor=10,final_div_factor=10)\n",
    "train_losses = []\n",
    "test_losses = []\n",
    "train_acc = []\n",
    "test_acc = []\n",
    "for epoch in range(1, 25):\n",
    "    print(epoch)\n",
    "    train_loss,train_accuracy=train(model, device, train_loader, optimizer, scheduler,epoch)\n",
    "    test_loss,test_accuracy=test(model, device, test_loader)\n",
    "    train_losses.append(train_loss)\n",
    "    test_losses.append(test_loss)\n",
    "    train_acc.append(train_accuracy)\n",
    "    test_acc.append(test_accuracy)"
   ]
  },
  {
   "cell_type": "code",
   "execution_count": null,
   "id": "f8d85ab8",
   "metadata": {},
   "outputs": [],
   "source": []
  }
 ],
 "metadata": {
  "kernelspec": {
   "display_name": "Python 3 (ipykernel)",
   "language": "python",
   "name": "python3"
  },
  "language_info": {
   "codemirror_mode": {
    "name": "ipython",
    "version": 3
   },
   "file_extension": ".py",
   "mimetype": "text/x-python",
   "name": "python",
   "nbconvert_exporter": "python",
   "pygments_lexer": "ipython3",
   "version": "3.10.8"
  }
 },
 "nbformat": 4,
 "nbformat_minor": 5
}
