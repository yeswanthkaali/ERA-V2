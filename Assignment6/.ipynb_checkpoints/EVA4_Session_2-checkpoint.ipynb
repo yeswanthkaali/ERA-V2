{
 "cells": [
  {
   "cell_type": "code",
   "execution_count": 11,
   "metadata": {
    "id": "0m2JWFliFfKT"
   },
   "outputs": [],
   "source": [
    "from __future__ import print_function\n",
    "import torch\n",
    "import torch.nn as nn\n",
    "import torch.nn.functional as F\n",
    "import torch.optim as optim\n",
    "from torchvision import datasets, transforms"
   ]
  },
  {
   "cell_type": "code",
   "execution_count": 97,
   "metadata": {
    "id": "h_Cx9q2QFgM7"
   },
   "outputs": [],
   "source": [
    "class Net(nn.Module):\n",
    "    def __init__(self):\n",
    "        super(Net, self).__init__()\n",
    "        self.conv1 = nn.Conv2d(1, 64, 3, padding=1) #input -? OUtput? RF\n",
    "        self.bn1=nn.BatchNorm2d(64)\n",
    "        self.tns1 = nn.Conv2d(in_channels=64, out_channels=16,kernel_size=1, padding=1)\n",
    "        self.pool1 = nn.MaxPool2d(2, 2)\n",
    "        #self.drop1=nn.Dropout(0.5)\n",
    "        self.conv3 = nn.Conv2d(16, 16, 3, padding=1)\n",
    "        self.conv4 = nn.Conv2d(16, 32, 3, padding=1)\n",
    "        self.bn2=nn.BatchNorm2d(32)\n",
    "        self.tns2 = nn.Conv2d(in_channels=32, out_channels=16,kernel_size=1, padding=1)\n",
    "        self.pool2 = nn.MaxPool2d(2, 2)\n",
    "        self.conv5 = nn.Conv2d(16, 16, 3, padding=1)\n",
    "        self.conv6 = nn.Conv2d(16, 32, 3, padding=1)\n",
    "        self.bn3=nn.BatchNorm2d(32)\n",
    "        self.conv7=nn.Conv2d(32, 10, 3, padding=1)\n",
    "        self.gpool = nn.AvgPool2d(kernel_size=7)\n",
    "        #self.drop2=nn.Dropout(0.5)\n",
    "#         self.fc1=nn.Linear(128, 10)\n",
    "        self.drop = nn.Dropout2d(0.25)\n",
    "#         self.pool2 = nn.MaxPool2d(2, 2)\n",
    "#         self.conv5 = nn.Conv2d(256, 512, 3)\n",
    "#         self.conv6 = nn.Conv2d(512, 1024, 3)\n",
    "#         self.conv7 = nn.Conv2d(1024, 10, 3)\n",
    "\n",
    "    def forward(self, x):\n",
    "        x =self.drop(self.pool1(self.tns1(self.bn1(F.relu(self.conv1(x))))))\n",
    "        x = self.drop(self.pool2(self.tns2(self.bn2(F.relu(self.conv4(F.relu(self.conv3(x))))))))\n",
    "        x = self.drop(self.bn3(F.relu(self.conv6(F.relu(self.conv5(x))))))\n",
    "        x=self.conv7(x)\n",
    "        x=self.gpool(x)\n",
    "        x=x.view(-1,10)\n",
    "        #x=self.conv4(x)\n",
    "        #x = F.relu(self.conv6(F.relu(self.conv5(x))))\n",
    "        #x = F.relu(self.conv7(x))\n",
    "        #print('x_shape:',x.shape)\n",
    "#         x = x.view(-1, 128)\n",
    "#         x=self.fc1(x)\n",
    "        return F.log_softmax(x)"
   ]
  },
  {
   "cell_type": "code",
   "execution_count": 98,
   "metadata": {
    "id": "xdydjYTZFyi3"
   },
   "outputs": [
    {
     "name": "stdout",
     "output_type": "stream",
     "text": [
      "Requirement already satisfied: torchsummary in /Users/yeswanth/anaconda3/lib/python3.10/site-packages (1.5.1)\n",
      "\n",
      "\u001b[1m[\u001b[0m\u001b[34;49mnotice\u001b[0m\u001b[1;39;49m]\u001b[0m\u001b[39;49m A new release of pip is available: \u001b[0m\u001b[31;49m23.1.2\u001b[0m\u001b[39;49m -> \u001b[0m\u001b[32;49m24.0\u001b[0m\n",
      "\u001b[1m[\u001b[0m\u001b[34;49mnotice\u001b[0m\u001b[1;39;49m]\u001b[0m\u001b[39;49m To update, run: \u001b[0m\u001b[32;49mpip install --upgrade pip\u001b[0m\n",
      "----------------------------------------------------------------\n",
      "        Layer (type)               Output Shape         Param #\n",
      "================================================================\n",
      "            Conv2d-1           [-1, 64, 28, 28]             640\n",
      "       BatchNorm2d-2           [-1, 64, 28, 28]             128\n",
      "            Conv2d-3           [-1, 16, 30, 30]           1,040\n",
      "         MaxPool2d-4           [-1, 16, 15, 15]               0\n",
      "         Dropout2d-5           [-1, 16, 15, 15]               0\n",
      "            Conv2d-6           [-1, 16, 15, 15]           2,320\n",
      "            Conv2d-7           [-1, 32, 15, 15]           4,640\n",
      "       BatchNorm2d-8           [-1, 32, 15, 15]              64\n",
      "            Conv2d-9           [-1, 16, 17, 17]             528\n",
      "        MaxPool2d-10             [-1, 16, 8, 8]               0\n",
      "        Dropout2d-11             [-1, 16, 8, 8]               0\n",
      "           Conv2d-12             [-1, 16, 8, 8]           2,320\n",
      "           Conv2d-13             [-1, 32, 8, 8]           4,640\n",
      "      BatchNorm2d-14             [-1, 32, 8, 8]              64\n",
      "        Dropout2d-15             [-1, 32, 8, 8]               0\n",
      "           Conv2d-16             [-1, 10, 8, 8]           2,890\n",
      "        AvgPool2d-17             [-1, 10, 1, 1]               0\n",
      "================================================================\n",
      "Total params: 19,274\n",
      "Trainable params: 19,274\n",
      "Non-trainable params: 0\n",
      "----------------------------------------------------------------\n",
      "Input size (MB): 0.00\n",
      "Forward/backward pass size (MB): 1.18\n",
      "Params size (MB): 0.07\n",
      "Estimated Total Size (MB): 1.25\n",
      "----------------------------------------------------------------\n"
     ]
    },
    {
     "name": "stderr",
     "output_type": "stream",
     "text": [
      "/var/folders/ff/hqsbywlj7pqfrwcx68lbt1680000gp/T/ipykernel_61281/1426748816.py:40: UserWarning: Implicit dimension choice for log_softmax has been deprecated. Change the call to include dim=X as an argument.\n",
      "  return F.log_softmax(x)\n"
     ]
    }
   ],
   "source": [
    "!pip install torchsummary\n",
    "from torchsummary import summary\n",
    "use_cuda = torch.cuda.is_available()\n",
    "device = torch.device(\"cuda\" if use_cuda else \"cpu\")\n",
    "#device = torch.device(\"mps\")\n",
    "model = Net().to(device)\n",
    "summary(model, input_size=(1, 28, 28))"
   ]
  },
  {
   "cell_type": "code",
   "execution_count": 99,
   "metadata": {
    "id": "DqTWLaM5GHgH"
   },
   "outputs": [],
   "source": [
    "\n",
    "\n",
    "torch.manual_seed(1)\n",
    "batch_size = 128\n",
    "\n",
    "#kwargs = {'num_workers': 1, 'pin_memory': True} if use_cuda else {}\n",
    "train_loader = torch.utils.data.DataLoader(\n",
    "    datasets.MNIST('../data', train=True, download=True,\n",
    "                    transform=transforms.Compose([\n",
    "                        transforms.ToTensor(),\n",
    "                        transforms.Normalize((0.1307,), (0.3081,))\n",
    "                    ])),\n",
    "    batch_size=batch_size, shuffle=True, **kwargs)\n",
    "test_loader = torch.utils.data.DataLoader(\n",
    "    datasets.MNIST('../data', train=False, transform=transforms.Compose([\n",
    "                        transforms.ToTensor(),\n",
    "                        transforms.Normalize((0.1307,), (0.3081,))\n",
    "                    ])),\n",
    "    batch_size=batch_size, shuffle=True, **kwargs)\n"
   ]
  },
  {
   "cell_type": "code",
   "execution_count": 100,
   "metadata": {
    "id": "8fDefDhaFlwH"
   },
   "outputs": [],
   "source": [
    "from tqdm import tqdm\n",
    "def GetCorrectPredCount(pPrediction, pLabels):\n",
    "  return pPrediction.argmax(dim=1).eq(pLabels).sum().item()\n",
    "def train(model, device, train_loader, optimizer, epoch):\n",
    "    model.train()\n",
    "    pbar = tqdm(train_loader)\n",
    "    train_loss = 0\n",
    "    correct = 0\n",
    "    processed = 0\n",
    "    for batch_idx, (data, target) in enumerate(pbar):\n",
    "        data, target = data.to(device), target.to(device)\n",
    "        optimizer.zero_grad()\n",
    "        output = model(data)\n",
    "        loss = F.nll_loss(output, target)\n",
    "        loss.backward()\n",
    "        optimizer.step()\n",
    "        correct += GetCorrectPredCount(output, target)\n",
    "        processed += len(data)\n",
    "        train_loss+=loss.item()\n",
    "        pbar.set_description(desc= f'loss={loss.item()} batch_id={batch_idx}')\n",
    "    train_accuracy=100*correct/processed\n",
    "    train_loss=train_loss/len(train_loader)\n",
    "    print('\\nTrain set: Average loss: {:.4f}, Accuracy: {}/{} ({:.0f}%)\\n'.format(\n",
    "        train_loss, correct, len(train_loader.dataset),\n",
    "        100. * correct / len(train_loader.dataset)))\n",
    "    return train_loss,train_accuracy\n",
    "\n",
    "\n",
    "def test(model, device, test_loader):\n",
    "    model.eval()\n",
    "    test_loss = 0\n",
    "    correct = 0\n",
    "    with torch.no_grad():\n",
    "        for data, target in test_loader:\n",
    "            data, target = data.to(device), target.to(device)\n",
    "            output = model(data)\n",
    "            test_loss += F.nll_loss(output, target, reduction='sum').item()  # sum up batch loss\n",
    "            pred = output.argmax(dim=1, keepdim=True)  # get the index of the max log-probability\n",
    "            correct += pred.eq(target.view_as(pred)).sum().item()\n",
    "\n",
    "    test_loss /= len(test_loader.dataset)\n",
    "    test_accuracy=100. * correct / len(test_loader.dataset)\n",
    "\n",
    "    print('\\nTest set: Average loss: {:.4f}, Accuracy: {}/{} ({:.0f}%)\\n'.format(\n",
    "        test_loss, correct, len(test_loader.dataset),\n",
    "        100. * correct / len(test_loader.dataset)))\n",
    "    return test_loss,test_accuracy"
   ]
  },
  {
   "cell_type": "code",
   "execution_count": 101,
   "metadata": {
    "id": "MMWbLWO6FuHb"
   },
   "outputs": [
    {
     "name": "stderr",
     "output_type": "stream",
     "text": [
      "  0%|                                                   | 0/469 [00:00<?, ?it/s]/var/folders/ff/hqsbywlj7pqfrwcx68lbt1680000gp/T/ipykernel_61281/1426748816.py:40: UserWarning: Implicit dimension choice for log_softmax has been deprecated. Change the call to include dim=X as an argument.\n",
      "  return F.log_softmax(x)\n",
      "loss=0.24029402434825897 batch_id=468: 100%|██| 469/469 [00:14<00:00, 32.99it/s]\n"
     ]
    },
    {
     "name": "stdout",
     "output_type": "stream",
     "text": [
      "\n",
      "Train set: Average loss: 0.0000, Accuracy: 48818/60000 (81%)\n",
      "\n",
      "\n",
      "Test set: Average loss: 0.1007, Accuracy: 9713/10000 (97%)\n",
      "\n"
     ]
    },
    {
     "name": "stderr",
     "output_type": "stream",
     "text": [
      "loss=0.1797439008951187 batch_id=468: 100%|███| 469/469 [00:13<00:00, 35.22it/s]\n"
     ]
    },
    {
     "name": "stdout",
     "output_type": "stream",
     "text": [
      "\n",
      "Train set: Average loss: 0.0000, Accuracy: 57679/60000 (96%)\n",
      "\n",
      "\n",
      "Test set: Average loss: 0.0581, Accuracy: 9832/10000 (98%)\n",
      "\n"
     ]
    },
    {
     "name": "stderr",
     "output_type": "stream",
     "text": [
      "loss=0.03590790554881096 batch_id=468: 100%|██| 469/469 [00:12<00:00, 36.31it/s]\n"
     ]
    },
    {
     "name": "stdout",
     "output_type": "stream",
     "text": [
      "\n",
      "Train set: Average loss: 0.0000, Accuracy: 58303/60000 (97%)\n",
      "\n",
      "\n",
      "Test set: Average loss: 0.0455, Accuracy: 9850/10000 (98%)\n",
      "\n"
     ]
    },
    {
     "name": "stderr",
     "output_type": "stream",
     "text": [
      "loss=0.0734216496348381 batch_id=468: 100%|███| 469/469 [00:12<00:00, 36.41it/s]\n"
     ]
    },
    {
     "name": "stdout",
     "output_type": "stream",
     "text": [
      "\n",
      "Train set: Average loss: 0.0000, Accuracy: 58543/60000 (98%)\n",
      "\n",
      "\n",
      "Test set: Average loss: 0.0341, Accuracy: 9896/10000 (99%)\n",
      "\n"
     ]
    },
    {
     "name": "stderr",
     "output_type": "stream",
     "text": [
      "loss=0.07576068490743637 batch_id=468: 100%|██| 469/469 [00:12<00:00, 36.38it/s]\n"
     ]
    },
    {
     "name": "stdout",
     "output_type": "stream",
     "text": [
      "\n",
      "Train set: Average loss: 0.0000, Accuracy: 58725/60000 (98%)\n",
      "\n",
      "\n",
      "Test set: Average loss: 0.0331, Accuracy: 9903/10000 (99%)\n",
      "\n"
     ]
    },
    {
     "name": "stderr",
     "output_type": "stream",
     "text": [
      "loss=0.04337438941001892 batch_id=468: 100%|██| 469/469 [00:12<00:00, 36.51it/s]\n"
     ]
    },
    {
     "name": "stdout",
     "output_type": "stream",
     "text": [
      "\n",
      "Train set: Average loss: 0.0000, Accuracy: 58852/60000 (98%)\n",
      "\n",
      "\n",
      "Test set: Average loss: 0.0321, Accuracy: 9889/10000 (99%)\n",
      "\n"
     ]
    },
    {
     "name": "stderr",
     "output_type": "stream",
     "text": [
      "loss=0.03838063403964043 batch_id=468: 100%|██| 469/469 [00:12<00:00, 36.52it/s]\n"
     ]
    },
    {
     "name": "stdout",
     "output_type": "stream",
     "text": [
      "\n",
      "Train set: Average loss: 0.0000, Accuracy: 58933/60000 (98%)\n",
      "\n",
      "\n",
      "Test set: Average loss: 0.0262, Accuracy: 9912/10000 (99%)\n",
      "\n"
     ]
    },
    {
     "name": "stderr",
     "output_type": "stream",
     "text": [
      "loss=0.050471220165491104 batch_id=468: 100%|█| 469/469 [00:12<00:00, 36.63it/s]\n"
     ]
    },
    {
     "name": "stdout",
     "output_type": "stream",
     "text": [
      "\n",
      "Train set: Average loss: 0.0000, Accuracy: 58959/60000 (98%)\n",
      "\n",
      "\n",
      "Test set: Average loss: 0.0274, Accuracy: 9906/10000 (99%)\n",
      "\n"
     ]
    },
    {
     "name": "stderr",
     "output_type": "stream",
     "text": [
      "loss=0.02608354389667511 batch_id=468: 100%|██| 469/469 [00:12<00:00, 36.57it/s]\n"
     ]
    },
    {
     "name": "stdout",
     "output_type": "stream",
     "text": [
      "\n",
      "Train set: Average loss: 0.0000, Accuracy: 59093/60000 (98%)\n",
      "\n",
      "\n",
      "Test set: Average loss: 0.0248, Accuracy: 9916/10000 (99%)\n",
      "\n"
     ]
    },
    {
     "name": "stderr",
     "output_type": "stream",
     "text": [
      "loss=0.15389634668827057 batch_id=468: 100%|██| 469/469 [00:12<00:00, 36.48it/s]\n"
     ]
    },
    {
     "name": "stdout",
     "output_type": "stream",
     "text": [
      "\n",
      "Train set: Average loss: 0.0000, Accuracy: 59134/60000 (99%)\n",
      "\n",
      "\n",
      "Test set: Average loss: 0.0237, Accuracy: 9924/10000 (99%)\n",
      "\n"
     ]
    },
    {
     "name": "stderr",
     "output_type": "stream",
     "text": [
      "loss=0.052887722849845886 batch_id=468: 100%|█| 469/469 [00:13<00:00, 35.96it/s]\n"
     ]
    },
    {
     "name": "stdout",
     "output_type": "stream",
     "text": [
      "\n",
      "Train set: Average loss: 0.0000, Accuracy: 59153/60000 (99%)\n",
      "\n",
      "\n",
      "Test set: Average loss: 0.0198, Accuracy: 9935/10000 (99%)\n",
      "\n"
     ]
    },
    {
     "name": "stderr",
     "output_type": "stream",
     "text": [
      "loss=0.057738836854696274 batch_id=468: 100%|█| 469/469 [00:13<00:00, 35.60it/s]\n"
     ]
    },
    {
     "name": "stdout",
     "output_type": "stream",
     "text": [
      "\n",
      "Train set: Average loss: 0.0000, Accuracy: 59164/60000 (99%)\n",
      "\n",
      "\n",
      "Test set: Average loss: 0.0227, Accuracy: 9924/10000 (99%)\n",
      "\n"
     ]
    },
    {
     "name": "stderr",
     "output_type": "stream",
     "text": [
      "loss=0.042945969849824905 batch_id=468: 100%|█| 469/469 [00:13<00:00, 35.98it/s]\n"
     ]
    },
    {
     "name": "stdout",
     "output_type": "stream",
     "text": [
      "\n",
      "Train set: Average loss: 0.0000, Accuracy: 59167/60000 (99%)\n",
      "\n",
      "\n",
      "Test set: Average loss: 0.0226, Accuracy: 9915/10000 (99%)\n",
      "\n"
     ]
    },
    {
     "name": "stderr",
     "output_type": "stream",
     "text": [
      "loss=0.024400250986218452 batch_id=468: 100%|█| 469/469 [00:13<00:00, 35.91it/s]\n"
     ]
    },
    {
     "name": "stdout",
     "output_type": "stream",
     "text": [
      "\n",
      "Train set: Average loss: 0.0000, Accuracy: 59211/60000 (99%)\n",
      "\n",
      "\n",
      "Test set: Average loss: 0.0236, Accuracy: 9919/10000 (99%)\n",
      "\n"
     ]
    },
    {
     "name": "stderr",
     "output_type": "stream",
     "text": [
      "loss=0.040211793035268784 batch_id=468: 100%|█| 469/469 [00:13<00:00, 35.97it/s]\n"
     ]
    },
    {
     "name": "stdout",
     "output_type": "stream",
     "text": [
      "\n",
      "Train set: Average loss: 0.0000, Accuracy: 59285/60000 (99%)\n",
      "\n",
      "\n",
      "Test set: Average loss: 0.0251, Accuracy: 9920/10000 (99%)\n",
      "\n"
     ]
    },
    {
     "name": "stderr",
     "output_type": "stream",
     "text": [
      "loss=0.024721616879105568 batch_id=468: 100%|█| 469/469 [00:12<00:00, 36.22it/s]\n"
     ]
    },
    {
     "name": "stdout",
     "output_type": "stream",
     "text": [
      "\n",
      "Train set: Average loss: 0.0000, Accuracy: 59277/60000 (99%)\n",
      "\n",
      "\n",
      "Test set: Average loss: 0.0223, Accuracy: 9936/10000 (99%)\n",
      "\n"
     ]
    },
    {
     "name": "stderr",
     "output_type": "stream",
     "text": [
      "loss=0.010280393064022064 batch_id=468: 100%|█| 469/469 [00:13<00:00, 35.17it/s]\n"
     ]
    },
    {
     "name": "stdout",
     "output_type": "stream",
     "text": [
      "\n",
      "Train set: Average loss: 0.0000, Accuracy: 59365/60000 (99%)\n",
      "\n",
      "\n",
      "Test set: Average loss: 0.0213, Accuracy: 9931/10000 (99%)\n",
      "\n"
     ]
    },
    {
     "name": "stderr",
     "output_type": "stream",
     "text": [
      "loss=0.060292672365903854 batch_id=468: 100%|█| 469/469 [00:13<00:00, 35.64it/s]\n"
     ]
    },
    {
     "name": "stdout",
     "output_type": "stream",
     "text": [
      "\n",
      "Train set: Average loss: 0.0000, Accuracy: 59318/60000 (99%)\n",
      "\n",
      "\n",
      "Test set: Average loss: 0.0215, Accuracy: 9933/10000 (99%)\n",
      "\n"
     ]
    },
    {
     "name": "stderr",
     "output_type": "stream",
     "text": [
      "loss=0.013306754641234875 batch_id=468: 100%|█| 469/469 [00:13<00:00, 35.84it/s]\n"
     ]
    },
    {
     "name": "stdout",
     "output_type": "stream",
     "text": [
      "\n",
      "Train set: Average loss: 0.0000, Accuracy: 59392/60000 (99%)\n",
      "\n",
      "\n",
      "Test set: Average loss: 0.0201, Accuracy: 9938/10000 (99%)\n",
      "\n"
     ]
    }
   ],
   "source": [
    "device = torch.device(\"mps\")\n",
    "model = Net().to(device)\n",
    "optimizer = optim.SGD(model.parameters(), lr=0.01, momentum=0.9)\n",
    "train_losses = []\n",
    "test_losses = []\n",
    "train_acc = []\n",
    "test_acc = []\n",
    "for epoch in range(1, 20):\n",
    "    train_loss,train_accuracy=train(model, device, train_loader, optimizer, epoch)\n",
    "    test_loss,test_accuracy=test(model, device, test_loader)\n",
    "    train_losses.append(train_loss)\n",
    "    test_losses.append(test_loss)\n",
    "    train_acc.append(train_accuracy)"
   ]
  },
  {
   "cell_type": "code",
   "execution_count": 103,
   "metadata": {
    "id": "So5uk4EkHW6R"
   },
   "outputs": [
    {
     "data": {
      "text/plain": [
       "Text(0.5, 1.0, 'Test Accuracy')"
      ]
     },
     "execution_count": 103,
     "metadata": {},
     "output_type": "execute_result"
    },
    {
     "data": {
      "image/png": "[encoded data removed]",
      "text/plain": [
       "<Figure size 1500x1000 with 4 Axes>"
      ]
     },
     "metadata": {},
     "output_type": "display_data"
    }
   ],
   "source": [
    "import matplotlib.pyplot as plt\n",
    "fig, axs = plt.subplots(2,2,figsize=(15,10))\n",
    "axs[0, 0].plot(train_losses)\n",
    "axs[0, 0].set_title(\"Training Loss\")\n",
    "axs[1, 0].plot(train_acc)\n",
    "axs[1, 0].set_title(\"Training Accuracy\")\n",
    "axs[0, 1].plot(test_losses)\n",
    "axs[0, 1].set_title(\"Test Loss\")\n",
    "axs[1, 1].plot(test_acc)\n",
    "axs[1, 1].set_title(\"Test Accuracy\")"
   ]
  },
  {
   "cell_type": "code",
   "execution_count": null,
   "metadata": {},
   "outputs": [],
   "source": []
  }
 ],
 "metadata": {
  "accelerator": "GPU",
  "colab": {
   "provenance": []
  },
  "kernelspec": {
   "display_name": "Python 3 (ipykernel)",
   "language": "python",
   "name": "python3"
  },
  "language_info": {
   "codemirror_mode": {
    "name": "ipython",
    "version": 3
   },
   "file_extension": ".py",
   "mimetype": "text/x-python",
   "name": "python",
   "nbconvert_exporter": "python",
   "pygments_lexer": "ipython3",
   "version": "3.10.8"
  }
 },
 "nbformat": 4,
 "nbformat_minor": 1
}
