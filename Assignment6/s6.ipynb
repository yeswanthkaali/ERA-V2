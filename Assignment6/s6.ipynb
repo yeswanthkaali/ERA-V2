{
 "cells": [
  {
   "cell_type": "code",
   "execution_count": 2,
   "metadata": {
    "id": "0m2JWFliFfKT"
   },
   "outputs": [],
   "source": [
    "from __future__ import print_function\n",
    "import torch\n",
    "import torch.nn as nn\n",
    "import torch.nn.functional as F\n",
    "import torch.optim as optim\n",
    "from torchvision import datasets, transforms"
   ]
  },
  {
   "cell_type": "code",
   "execution_count": 3,
   "metadata": {
    "id": "h_Cx9q2QFgM7"
   },
   "outputs": [],
   "source": [
    "class Net(nn.Module):\n",
    "    def __init__(self):\n",
    "        super(Net, self).__init__()\n",
    "        self.conv1 = nn.Conv2d(1, 64, 3, padding=1) #input -? OUtput? RF\n",
    "        self.bn1=nn.BatchNorm2d(64)\n",
    "        self.tns1 = nn.Conv2d(in_channels=64, out_channels=16,kernel_size=1, padding=1)\n",
    "        self.pool1 = nn.MaxPool2d(2, 2)\n",
    "        #self.drop1=nn.Dropout(0.5)\n",
    "        self.conv3 = nn.Conv2d(16, 16, 3, padding=1)\n",
    "        self.conv4 = nn.Conv2d(16, 32, 3, padding=1)\n",
    "        self.bn2=nn.BatchNorm2d(32)\n",
    "        self.tns2 = nn.Conv2d(in_channels=32, out_channels=16,kernel_size=1, padding=1)\n",
    "        self.pool2 = nn.MaxPool2d(2, 2)\n",
    "        self.conv5 = nn.Conv2d(16, 16, 3, padding=1)\n",
    "        self.conv6 = nn.Conv2d(16, 32, 3, padding=1)\n",
    "        self.bn3=nn.BatchNorm2d(32)\n",
    "        self.conv7=nn.Conv2d(32, 10, 3, padding=1)\n",
    "        self.gpool = nn.AvgPool2d(kernel_size=7)\n",
    "        #self.drop2=nn.Dropout(0.5)\n",
    "#         self.fc1=nn.Linear(128, 10)\n",
    "        self.drop = nn.Dropout2d(0.25)\n",
    "#         self.pool2 = nn.MaxPool2d(2, 2)\n",
    "#         self.conv5 = nn.Conv2d(256, 512, 3)\n",
    "#         self.conv6 = nn.Conv2d(512, 1024, 3)\n",
    "#         self.conv7 = nn.Conv2d(1024, 10, 3)\n",
    "\n",
    "    def forward(self, x):\n",
    "        x =self.drop(self.pool1(self.tns1(self.bn1(F.relu(self.conv1(x))))))\n",
    "        x = self.drop(self.pool2(self.tns2(self.bn2(F.relu(self.conv4(F.relu(self.conv3(x))))))))\n",
    "        x = self.drop(self.bn3(F.relu(self.conv6(F.relu(self.conv5(x))))))\n",
    "        x=self.conv7(x)\n",
    "        x=self.gpool(x)\n",
    "        x=x.view(-1,10)\n",
    "        #x=self.conv4(x)\n",
    "        #x = F.relu(self.conv6(F.relu(self.conv5(x))))\n",
    "        #x = F.relu(self.conv7(x))\n",
    "        #print('x_shape:',x.shape)\n",
    "#         x = x.view(-1, 128)\n",
    "#         x=self.fc1(x)\n",
    "        return F.log_softmax(x)"
   ]
  },
  {
   "cell_type": "code",
   "execution_count": 4,
   "metadata": {
    "id": "xdydjYTZFyi3"
   },
   "outputs": [
    {
     "name": "stdout",
     "output_type": "stream",
     "text": [
      "Requirement already satisfied: torchsummary in /Users/yeswanth/anaconda3/lib/python3.10/site-packages (1.5.1)\n",
      "\n",
      "\u001b[1m[\u001b[0m\u001b[34;49mnotice\u001b[0m\u001b[1;39;49m]\u001b[0m\u001b[39;49m A new release of pip is available: \u001b[0m\u001b[31;49m23.1.2\u001b[0m\u001b[39;49m -> \u001b[0m\u001b[32;49m24.0\u001b[0m\n",
      "\u001b[1m[\u001b[0m\u001b[34;49mnotice\u001b[0m\u001b[1;39;49m]\u001b[0m\u001b[39;49m To update, run: \u001b[0m\u001b[32;49mpip install --upgrade pip\u001b[0m\n",
      "----------------------------------------------------------------\n",
      "        Layer (type)               Output Shape         Param #\n",
      "================================================================\n",
      "            Conv2d-1           [-1, 64, 28, 28]             640\n",
      "       BatchNorm2d-2           [-1, 64, 28, 28]             128\n",
      "            Conv2d-3           [-1, 16, 30, 30]           1,040\n",
      "         MaxPool2d-4           [-1, 16, 15, 15]               0\n",
      "         Dropout2d-5           [-1, 16, 15, 15]               0\n",
      "            Conv2d-6           [-1, 16, 15, 15]           2,320\n",
      "            Conv2d-7           [-1, 32, 15, 15]           4,640\n",
      "       BatchNorm2d-8           [-1, 32, 15, 15]              64\n",
      "            Conv2d-9           [-1, 16, 17, 17]             528\n",
      "        MaxPool2d-10             [-1, 16, 8, 8]               0\n",
      "        Dropout2d-11             [-1, 16, 8, 8]               0\n",
      "           Conv2d-12             [-1, 16, 8, 8]           2,320\n",
      "           Conv2d-13             [-1, 32, 8, 8]           4,640\n",
      "      BatchNorm2d-14             [-1, 32, 8, 8]              64\n",
      "        Dropout2d-15             [-1, 32, 8, 8]               0\n",
      "           Conv2d-16             [-1, 10, 8, 8]           2,890\n",
      "        AvgPool2d-17             [-1, 10, 1, 1]               0\n",
      "================================================================\n",
      "Total params: 19,274\n",
      "Trainable params: 19,274\n",
      "Non-trainable params: 0\n",
      "----------------------------------------------------------------\n",
      "Input size (MB): 0.00\n",
      "Forward/backward pass size (MB): 1.18\n",
      "Params size (MB): 0.07\n",
      "Estimated Total Size (MB): 1.25\n",
      "----------------------------------------------------------------\n"
     ]
    },
    {
     "name": "stderr",
     "output_type": "stream",
     "text": [
      "/var/folders/ff/hqsbywlj7pqfrwcx68lbt1680000gp/T/ipykernel_79517/1426748816.py:40: UserWarning: Implicit dimension choice for log_softmax has been deprecated. Change the call to include dim=X as an argument.\n",
      "  return F.log_softmax(x)\n"
     ]
    }
   ],
   "source": [
    "!pip install torchsummary\n",
    "from torchsummary import summary\n",
    "use_cuda = torch.cuda.is_available()\n",
    "device = torch.device(\"cuda\" if use_cuda else \"cpu\")\n",
    "#device = torch.device(\"mps\")\n",
    "model = Net().to(device)\n",
    "summary(model, input_size=(1, 28, 28))"
   ]
  },
  {
   "cell_type": "code",
   "execution_count": 6,
   "metadata": {
    "id": "DqTWLaM5GHgH"
   },
   "outputs": [],
   "source": [
    "\n",
    "\n",
    "torch.manual_seed(1)\n",
    "batch_size = 128\n",
    "\n",
    "kwargs = {'num_workers': 1, 'pin_memory': True} if use_cuda else {}\n",
    "train_loader = torch.utils.data.DataLoader(\n",
    "    datasets.MNIST('../data', train=True, download=True,\n",
    "                    transform=transforms.Compose([\n",
    "                        transforms.ToTensor(),\n",
    "                        transforms.Normalize((0.1307,), (0.3081,))\n",
    "                    ])),\n",
    "    batch_size=batch_size, shuffle=True, **kwargs)\n",
    "test_loader = torch.utils.data.DataLoader(\n",
    "    datasets.MNIST('../data', train=False, transform=transforms.Compose([\n",
    "                        transforms.ToTensor(),\n",
    "                        transforms.Normalize((0.1307,), (0.3081,))\n",
    "                    ])),\n",
    "    batch_size=batch_size, shuffle=True, **kwargs)\n"
   ]
  },
  {
   "cell_type": "code",
   "execution_count": 7,
   "metadata": {
    "id": "8fDefDhaFlwH"
   },
   "outputs": [],
   "source": [
    "from tqdm import tqdm\n",
    "def GetCorrectPredCount(pPrediction, pLabels):\n",
    "  return pPrediction.argmax(dim=1).eq(pLabels).sum().item()\n",
    "def train(model, device, train_loader, optimizer, epoch):\n",
    "    model.train()\n",
    "    pbar = tqdm(train_loader)\n",
    "    train_loss = 0\n",
    "    correct = 0\n",
    "    processed = 0\n",
    "    for batch_idx, (data, target) in enumerate(pbar):\n",
    "        data, target = data.to(device), target.to(device)\n",
    "        optimizer.zero_grad()\n",
    "        output = model(data)\n",
    "        loss = F.nll_loss(output, target)\n",
    "        loss.backward()\n",
    "        optimizer.step()\n",
    "        correct += GetCorrectPredCount(output, target)\n",
    "        processed += len(data)\n",
    "        train_loss+=loss.item()\n",
    "        pbar.set_description(desc= f'loss={loss.item()} batch_id={batch_idx}')\n",
    "    train_accuracy=100*correct/processed\n",
    "    train_loss=train_loss/len(train_loader)\n",
    "    print('\\nTrain set: Average loss: {:.4f}, Accuracy: {}/{} ({:.0f}%)\\n'.format(\n",
    "        train_loss, correct, len(train_loader.dataset),\n",
    "        100. * correct / len(train_loader.dataset)))\n",
    "    return train_loss,train_accuracy\n",
    "\n",
    "\n",
    "def test(model, device, test_loader):\n",
    "    model.eval()\n",
    "    test_loss = 0\n",
    "    correct = 0\n",
    "    with torch.no_grad():\n",
    "        for data, target in test_loader:\n",
    "            data, target = data.to(device), target.to(device)\n",
    "            output = model(data)\n",
    "            test_loss += F.nll_loss(output, target, reduction='sum').item()  # sum up batch loss\n",
    "            pred = output.argmax(dim=1, keepdim=True)  # get the index of the max log-probability\n",
    "            correct += pred.eq(target.view_as(pred)).sum().item()\n",
    "\n",
    "    test_loss /= len(test_loader.dataset)\n",
    "    test_accuracy=100. * correct / len(test_loader.dataset)\n",
    "\n",
    "    print('\\nTest set: Average loss: {:.4f}, Accuracy: {}/{} ({:.0f}%)\\n'.format(\n",
    "        test_loss, correct, len(test_loader.dataset),\n",
    "        100. * correct / len(test_loader.dataset)))\n",
    "    return test_loss,test_accuracy"
   ]
  },
  {
   "cell_type": "code",
   "execution_count": null,
   "metadata": {
    "id": "MMWbLWO6FuHb"
   },
   "outputs": [
    {
     "name": "stderr",
     "output_type": "stream",
     "text": [
      "  0%|                                                   | 0/469 [00:00<?, ?it/s]/var/folders/ff/hqsbywlj7pqfrwcx68lbt1680000gp/T/ipykernel_79517/1426748816.py:40: UserWarning: Implicit dimension choice for log_softmax has been deprecated. Change the call to include dim=X as an argument.\n",
      "  return F.log_softmax(x)\n",
      "loss=0.1790793389081955 batch_id=468: 100%|███| 469/469 [00:13<00:00, 35.72it/s]\n"
     ]
    },
    {
     "name": "stdout",
     "output_type": "stream",
     "text": [
      "\n",
      "Train set: Average loss: 0.5564, Accuracy: 49638/60000 (83%)\n",
      "\n",
      "\n",
      "Test set: Average loss: 0.0971, Accuracy: 9705/10000 (97%)\n",
      "\n"
     ]
    },
    {
     "name": "stderr",
     "output_type": "stream",
     "text": [
      "loss=0.19175517559051514 batch_id=468: 100%|██| 469/469 [00:12<00:00, 36.15it/s]\n"
     ]
    },
    {
     "name": "stdout",
     "output_type": "stream",
     "text": [
      "\n",
      "Train set: Average loss: 0.1445, Accuracy: 57500/60000 (96%)\n",
      "\n",
      "\n",
      "Test set: Average loss: 0.0580, Accuracy: 9816/10000 (98%)\n",
      "\n"
     ]
    },
    {
     "name": "stderr",
     "output_type": "stream",
     "text": [
      "loss=0.0778145045042038 batch_id=468: 100%|███| 469/469 [00:13<00:00, 35.32it/s]\n"
     ]
    },
    {
     "name": "stdout",
     "output_type": "stream",
     "text": [
      "\n",
      "Train set: Average loss: 0.1051, Accuracy: 58195/60000 (97%)\n",
      "\n",
      "\n",
      "Test set: Average loss: 0.0497, Accuracy: 9839/10000 (98%)\n",
      "\n"
     ]
    },
    {
     "name": "stderr",
     "output_type": "stream",
     "text": [
      "loss=0.0448843352496624 batch_id=468: 100%|███| 469/469 [00:13<00:00, 35.51it/s]\n"
     ]
    },
    {
     "name": "stdout",
     "output_type": "stream",
     "text": [
      "\n",
      "Train set: Average loss: 0.0844, Accuracy: 58550/60000 (98%)\n",
      "\n",
      "\n",
      "Test set: Average loss: 0.0342, Accuracy: 9888/10000 (99%)\n",
      "\n"
     ]
    },
    {
     "name": "stderr",
     "output_type": "stream",
     "text": [
      "loss=0.10073532909154892 batch_id=468: 100%|██| 469/469 [00:12<00:00, 36.08it/s]\n"
     ]
    },
    {
     "name": "stdout",
     "output_type": "stream",
     "text": [
      "\n",
      "Train set: Average loss: 0.0753, Accuracy: 58676/60000 (98%)\n",
      "\n",
      "\n",
      "Test set: Average loss: 0.0527, Accuracy: 9845/10000 (98%)\n",
      "\n"
     ]
    },
    {
     "name": "stderr",
     "output_type": "stream",
     "text": [
      "loss=0.04546760395169258 batch_id=468: 100%|██| 469/469 [00:13<00:00, 36.03it/s]\n"
     ]
    },
    {
     "name": "stdout",
     "output_type": "stream",
     "text": [
      "\n",
      "Train set: Average loss: 0.0681, Accuracy: 58823/60000 (98%)\n",
      "\n",
      "\n",
      "Test set: Average loss: 0.0342, Accuracy: 9881/10000 (99%)\n",
      "\n"
     ]
    },
    {
     "name": "stderr",
     "output_type": "stream",
     "text": [
      "loss=0.09883096069097519 batch_id=468: 100%|██| 469/469 [00:13<00:00, 35.34it/s]\n"
     ]
    },
    {
     "name": "stdout",
     "output_type": "stream",
     "text": [
      "\n",
      "Train set: Average loss: 0.0604, Accuracy: 58936/60000 (98%)\n",
      "\n",
      "\n",
      "Test set: Average loss: 0.0308, Accuracy: 9901/10000 (99%)\n",
      "\n"
     ]
    },
    {
     "name": "stderr",
     "output_type": "stream",
     "text": [
      "loss=0.03066752292215824 batch_id=468: 100%|██| 469/469 [00:13<00:00, 34.81it/s]\n"
     ]
    },
    {
     "name": "stdout",
     "output_type": "stream",
     "text": [
      "\n",
      "Train set: Average loss: 0.0576, Accuracy: 58986/60000 (98%)\n",
      "\n",
      "\n",
      "Test set: Average loss: 0.0263, Accuracy: 9921/10000 (99%)\n",
      "\n"
     ]
    },
    {
     "name": "stderr",
     "output_type": "stream",
     "text": [
      "loss=0.014952252618968487 batch_id=468: 100%|█| 469/469 [00:12<00:00, 36.13it/s]\n"
     ]
    },
    {
     "name": "stdout",
     "output_type": "stream",
     "text": [
      "\n",
      "Train set: Average loss: 0.0527, Accuracy: 59090/60000 (98%)\n",
      "\n",
      "\n",
      "Test set: Average loss: 0.0246, Accuracy: 9913/10000 (99%)\n",
      "\n"
     ]
    },
    {
     "name": "stderr",
     "output_type": "stream",
     "text": [
      "loss=0.11950110644102097 batch_id=468: 100%|██| 469/469 [00:13<00:00, 35.99it/s]\n"
     ]
    },
    {
     "name": "stdout",
     "output_type": "stream",
     "text": [
      "\n",
      "Train set: Average loss: 0.0500, Accuracy: 59095/60000 (98%)\n",
      "\n",
      "\n",
      "Test set: Average loss: 0.0271, Accuracy: 9913/10000 (99%)\n",
      "\n"
     ]
    },
    {
     "name": "stderr",
     "output_type": "stream",
     "text": [
      "loss=0.14977867901325226 batch_id=468: 100%|██| 469/469 [00:13<00:00, 35.86it/s]\n"
     ]
    },
    {
     "name": "stdout",
     "output_type": "stream",
     "text": [
      "\n",
      "Train set: Average loss: 0.0485, Accuracy: 59118/60000 (99%)\n",
      "\n",
      "\n",
      "Test set: Average loss: 0.0275, Accuracy: 9914/10000 (99%)\n",
      "\n"
     ]
    },
    {
     "name": "stderr",
     "output_type": "stream",
     "text": [
      "loss=0.006362600717693567 batch_id=468: 100%|█| 469/469 [00:13<00:00, 36.07it/s]\n"
     ]
    },
    {
     "name": "stdout",
     "output_type": "stream",
     "text": [
      "\n",
      "Train set: Average loss: 0.0444, Accuracy: 59193/60000 (99%)\n",
      "\n",
      "\n",
      "Test set: Average loss: 0.0220, Accuracy: 9924/10000 (99%)\n",
      "\n"
     ]
    },
    {
     "name": "stderr",
     "output_type": "stream",
     "text": [
      "loss=0.12408479303121567 batch_id=468: 100%|██| 469/469 [00:13<00:00, 35.58it/s]\n"
     ]
    },
    {
     "name": "stdout",
     "output_type": "stream",
     "text": [
      "\n",
      "Train set: Average loss: 0.0427, Accuracy: 59243/60000 (99%)\n",
      "\n",
      "\n",
      "Test set: Average loss: 0.0249, Accuracy: 9920/10000 (99%)\n",
      "\n"
     ]
    },
    {
     "name": "stderr",
     "output_type": "stream",
     "text": [
      "loss=0.06915709376335144 batch_id=468: 100%|██| 469/469 [00:12<00:00, 36.21it/s]\n"
     ]
    },
    {
     "name": "stdout",
     "output_type": "stream",
     "text": [
      "\n",
      "Train set: Average loss: 0.0436, Accuracy: 59226/60000 (99%)\n",
      "\n",
      "\n",
      "Test set: Average loss: 0.0249, Accuracy: 9920/10000 (99%)\n",
      "\n"
     ]
    },
    {
     "name": "stderr",
     "output_type": "stream",
     "text": [
      "loss=0.02205725759267807 batch_id=468: 100%|██| 469/469 [00:13<00:00, 35.91it/s]\n"
     ]
    },
    {
     "name": "stdout",
     "output_type": "stream",
     "text": [
      "\n",
      "Train set: Average loss: 0.0409, Accuracy: 59295/60000 (99%)\n",
      "\n",
      "\n",
      "Test set: Average loss: 0.0269, Accuracy: 9919/10000 (99%)\n",
      "\n"
     ]
    },
    {
     "name": "stderr",
     "output_type": "stream",
     "text": [
      "loss=0.024247782304883003 batch_id=468: 100%|█| 469/469 [00:12<00:00, 36.14it/s]\n"
     ]
    },
    {
     "name": "stdout",
     "output_type": "stream",
     "text": [
      "\n",
      "Train set: Average loss: 0.0389, Accuracy: 59309/60000 (99%)\n",
      "\n",
      "\n",
      "Test set: Average loss: 0.0201, Accuracy: 9931/10000 (99%)\n",
      "\n"
     ]
    },
    {
     "name": "stderr",
     "output_type": "stream",
     "text": [
      "loss=0.029221192002296448 batch_id=468: 100%|█| 469/469 [00:13<00:00, 35.96it/s]\n"
     ]
    },
    {
     "name": "stdout",
     "output_type": "stream",
     "text": [
      "\n",
      "Train set: Average loss: 0.0374, Accuracy: 59325/60000 (99%)\n",
      "\n",
      "\n",
      "Test set: Average loss: 0.0216, Accuracy: 9934/10000 (99%)\n",
      "\n"
     ]
    },
    {
     "name": "stderr",
     "output_type": "stream",
     "text": [
      "loss=0.015786752104759216 batch_id=281:  60%|▌| 280/469 [00:07<00:05, 35.77it/s]"
     ]
    }
   ],
   "source": [
    "device = torch.device(\"mps\")\n",
    "model = Net().to(device)\n",
    "optimizer = optim.SGD(model.parameters(), lr=0.01, momentum=0.9)\n",
    "train_losses = []\n",
    "test_losses = []\n",
    "train_acc = []\n",
    "test_acc = []\n",
    "for epoch in range(1, 21):\n",
    "    train_loss,train_accuracy=train(model, device, train_loader, optimizer, epoch)\n",
    "    test_loss,test_accuracy=test(model, device, test_loader)\n",
    "    train_losses.append(train_loss)\n",
    "    test_losses.append(test_loss)\n",
    "    train_acc.append(train_accuracy)\n",
    "    test_acc.append(test_accuracy)"
   ]
  },
  {
   "cell_type": "code",
   "execution_count": 9,
   "metadata": {
    "id": "So5uk4EkHW6R"
   },
   "outputs": [
    {
     "data": {
      "text/plain": [
       "Text(0.5, 1.0, 'Test Accuracy')"
      ]
     },
     "execution_count": 9,
     "metadata": {},
     "output_type": "execute_result"
    },
    {
     "data": {
      "image/png": "[encoded data removed]",
      "text/plain": [
       "<Figure size 1500x1000 with 4 Axes>"
      ]
     },
     "metadata": {},
     "output_type": "display_data"
    }
   ],
   "source": [
    "import matplotlib.pyplot as plt\n",
    "fig, axs = plt.subplots(2,2,figsize=(15,10))\n",
    "axs[0, 0].plot(train_losses)\n",
    "axs[0, 0].set_title(\"Training Loss\")\n",
    "axs[1, 0].plot(train_acc)\n",
    "axs[1, 0].set_title(\"Training Accuracy\")\n",
    "axs[0, 1].plot(test_losses)\n",
    "axs[0, 1].set_title(\"Test Loss\")\n",
    "axs[1, 1].plot(test_acc)\n",
    "axs[1, 1].set_title(\"Test Accuracy\")"
   ]
  },
  {
   "cell_type": "code",
   "execution_count": null,
   "metadata": {},
   "outputs": [],
   "source": []
  }
 ],
 "metadata": {
  "accelerator": "GPU",
  "colab": {
   "provenance": []
  },
  "kernelspec": {
   "display_name": "Python 3 (ipykernel)",
   "language": "python",
   "name": "python3"
  },
  "language_info": {
   "codemirror_mode": {
    "name": "ipython",
    "version": 3
   },
   "file_extension": ".py",
   "mimetype": "text/x-python",
   "name": "python",
   "nbconvert_exporter": "python",
   "pygments_lexer": "ipython3",
   "version": "3.10.8"
  }
 },
 "nbformat": 4,
 "nbformat_minor": 1
}
