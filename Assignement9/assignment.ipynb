{
 "cells": [
  {
   "cell_type": "code",
   "execution_count": 1,
   "id": "5b33214b",
   "metadata": {},
   "outputs": [],
   "source": [
    "import torch\n",
    "import torch.nn as nn\n",
    "import torch.nn.functional as F\n",
    "import torch.optim as optim\n",
    "from torchvision import datasets, transforms\n",
    "import albumentations as A\n",
    "from albumentations.pytorch.transforms import ToTensorV2"
   ]
  },
  {
   "cell_type": "code",
   "execution_count": 2,
   "id": "423607fc",
   "metadata": {},
   "outputs": [
    {
     "name": "stdout",
     "output_type": "stream",
     "text": [
      "Files already downloaded and verified\n"
     ]
    }
   ],
   "source": [
    "simple_transform=transforms.Compose([transforms.ToTensor()])\n",
    "exp_dataset=datasets.CIFAR10('./data',train=True,download=True,transform=simple_transform)"
   ]
  },
  {
   "cell_type": "code",
   "execution_count": 3,
   "id": "1c01b6d1",
   "metadata": {},
   "outputs": [
    {
     "name": "stdout",
     "output_type": "stream",
     "text": [
      "Mean per channel: tensor([0.4914, 0.4822, 0.4465])\n",
      "Std per channel: tensor([0.2470, 0.2435, 0.2616])\n"
     ]
    }
   ],
   "source": [
    "train_loader = torch.utils.data.DataLoader(exp_dataset, batch_size=len(exp_dataset), shuffle=False)\n",
    "data = next(iter(train_loader))\n",
    "\n",
    "# Calculate mean and std per channel\n",
    "mean = data[0].mean(dim=(0, 2, 3))  # Calculate mean across all images and height, width dimensions\n",
    "std = data[0].std(dim=(0, 2, 3))    # Calculate std across all images and height, width dimensions\n",
    "\n",
    "print(\"Mean per channel:\", mean)\n",
    "print(\"Std per channel:\", std)"
   ]
  },
  {
   "cell_type": "code",
   "execution_count": 4,
   "id": "1f8ed72f",
   "metadata": {},
   "outputs": [
    {
     "name": "stdout",
     "output_type": "stream",
     "text": [
      "Files already downloaded and verified\n",
      "Files already downloaded and verified\n"
     ]
    }
   ],
   "source": [
    "import cv2\n",
    "import torchvision\n",
    "\n",
    "cv2.setNumThreads(0)\n",
    "cv2.ocl.setUseOpenCL(False)\n",
    "\n",
    "\n",
    "class Cifar10SearchDataset(torchvision.datasets.CIFAR10):\n",
    "    def __init__(self, root=\"~/data/cifar10\", train=True, download=True, transform=None):\n",
    "        super().__init__(root=root, train=train, download=download, transform=transform)\n",
    "\n",
    "    def __getitem__(self, index):\n",
    "        image, label = self.data[index], self.targets[index]\n",
    "\n",
    "        if self.transform is not None:\n",
    "            transformed = self.transform(image=image)\n",
    "            image = transformed[\"image\"]\n",
    "\n",
    "        return image, label\n",
    "train_transform=A.Compose([\n",
    "                            A.Normalize((0.4914, 0.4822, 0.4465),(0.2470, 0.2435, 0.2616)),\n",
    "                           A.HorizontalFlip(),\n",
    "                           A.ShiftScaleRotate (shift_limit=0.0625, scale_limit=0.1, rotate_limit=45, interpolation=1, border_mode=4, value=None, mask_value=None, shift_limit_x=None, shift_limit_y=None, rotate_method='largest_box', always_apply=False, p=0.5),\n",
    "                           A.CoarseDropout(max_holes = 1, max_height=16, max_width=16, min_holes = 1, min_height=16, min_width=16, fill_value=(0.4914, 0.4822, 0.4465), mask_fill_value=None),\n",
    "                            ToTensorV2()\n",
    "                           \n",
    "                                   ])\n",
    "test_transform=A.Compose([A.Normalize((0.4914, 0.4822, 0.4465),(0.2470, 0.2435, 0.2616)),\n",
    "                          ToTensorV2()\n",
    "                                   ])\n",
    "train_data=Cifar10SearchDataset('./data',train=True,download=True,transform=train_transform)\n",
    "test_data=Cifar10SearchDataset('./data',train=False,download=True,transform=test_transform)"
   ]
  },
  {
   "cell_type": "code",
   "execution_count": 5,
   "id": "ef7357d1",
   "metadata": {},
   "outputs": [
    {
     "name": "stdout",
     "output_type": "stream",
     "text": [
      "CUDA Available? False\n"
     ]
    }
   ],
   "source": [
    "SEED = 1\n",
    "\n",
    "# CUDA?\n",
    "cuda = torch.cuda.is_available()\n",
    "print(\"CUDA Available?\", cuda)\n",
    "\n",
    "# For reproducibility\n",
    "torch.manual_seed(SEED)\n",
    "\n",
    "if cuda:\n",
    "    torch.cuda.manual_seed(SEED)\n",
    "\n",
    "# dataloader arguments - something you'll fetch these from cmdprmt\n",
    "dataloader_args = dict(shuffle=True, batch_size=128, num_workers=4, pin_memory=True) if cuda else dict(shuffle=True, batch_size=64)\n",
    "\n",
    "# train dataloader\n",
    "train_loader = torch.utils.data.DataLoader(train_data, **dataloader_args)\n",
    "\n",
    "# test dataloader\n",
    "test_loader = torch.utils.data.DataLoader(test_data, **dataloader_args)"
   ]
  },
  {
   "cell_type": "code",
   "execution_count": 6,
   "id": "b4fbb2fa",
   "metadata": {},
   "outputs": [
    {
     "name": "stdout",
     "output_type": "stream",
     "text": [
      "Requirement already satisfied: torchsummary in /opt/anaconda3/lib/python3.11/site-packages (1.5.1)\n",
      "cpu\n",
      "----------------------------------------------------------------\n",
      "        Layer (type)               Output Shape         Param #\n",
      "================================================================\n",
      "            Conv2d-1           [-1, 32, 30, 30]             864\n",
      "       BatchNorm2d-2           [-1, 32, 30, 30]              64\n",
      "              ReLU-3           [-1, 32, 30, 30]               0\n",
      "            Conv2d-4           [-1, 64, 15, 15]          18,432\n",
      "       BatchNorm2d-5           [-1, 64, 15, 15]             128\n",
      "              ReLU-6           [-1, 64, 15, 15]               0\n",
      "            Conv2d-7           [-1, 32, 15, 15]           2,048\n",
      "            Conv2d-8           [-1, 32, 15, 15]           9,216\n",
      "       BatchNorm2d-9           [-1, 32, 15, 15]              64\n",
      "             ReLU-10           [-1, 32, 15, 15]               0\n",
      "           Conv2d-11           [-1, 32, 15, 15]           9,216\n",
      "      BatchNorm2d-12           [-1, 32, 15, 15]              64\n",
      "             ReLU-13           [-1, 32, 15, 15]               0\n",
      "           Conv2d-14             [-1, 64, 8, 8]          18,432\n",
      "      BatchNorm2d-15             [-1, 64, 8, 8]             128\n",
      "             ReLU-16             [-1, 64, 8, 8]               0\n",
      "           Conv2d-17             [-1, 32, 8, 8]           2,048\n",
      "           Conv2d-18             [-1, 64, 8, 8]          18,432\n",
      "      BatchNorm2d-19             [-1, 64, 8, 8]             128\n",
      "             ReLU-20             [-1, 64, 8, 8]               0\n",
      "           Conv2d-21             [-1, 64, 8, 8]           1,152\n",
      "           Conv2d-22             [-1, 64, 8, 8]           4,096\n",
      "      BatchNorm2d-23             [-1, 64, 8, 8]             128\n",
      "             ReLU-24             [-1, 64, 8, 8]               0\n",
      "           Conv2d-25             [-1, 96, 4, 4]          55,296\n",
      "      BatchNorm2d-26             [-1, 96, 4, 4]             192\n",
      "             ReLU-27             [-1, 96, 4, 4]               0\n",
      "           Conv2d-28             [-1, 32, 4, 4]           3,072\n",
      "           Conv2d-29             [-1, 64, 4, 4]          18,432\n",
      "      BatchNorm2d-30             [-1, 64, 4, 4]             128\n",
      "             ReLU-31             [-1, 64, 4, 4]               0\n",
      "           Conv2d-32             [-1, 64, 4, 4]          36,864\n",
      "        AvgPool2d-33             [-1, 64, 1, 1]               0\n",
      "           Conv2d-34             [-1, 10, 1, 1]             640\n",
      "================================================================\n",
      "Total params: 199,264\n",
      "Trainable params: 199,264\n",
      "Non-trainable params: 0\n",
      "----------------------------------------------------------------\n",
      "Input size (MB): 0.01\n",
      "Forward/backward pass size (MB): 1.77\n",
      "Params size (MB): 0.76\n",
      "Estimated Total Size (MB): 2.54\n",
      "----------------------------------------------------------------\n"
     ]
    }
   ],
   "source": [
    "from model import Net\n",
    "!pip install torchsummary\n",
    "from torchsummary import summary\n",
    "use_cuda = torch.cuda.is_available()\n",
    "device = torch.device(\"cuda\" if use_cuda else \"cpu\")\n",
    "print(device)\n",
    "model = Net().to(device)\n",
    "summary(model, input_size=(3, 32, 32))"
   ]
  },
  {
   "cell_type": "code",
   "execution_count": 9,
   "id": "c75f6d72",
   "metadata": {},
   "outputs": [
    {
     "name": "stdout",
     "output_type": "stream",
     "text": [
      "1\n"
     ]
    },
    {
     "name": "stderr",
     "output_type": "stream",
     "text": [
      "loss=1.594364047050476 batch_id=781 Accuracy=35.93: 100%|█| 782/782 [00:32<00:00\n"
     ]
    },
    {
     "name": "stdout",
     "output_type": "stream",
     "text": [
      "\n",
      "Test set: Average loss: 1.4632, Accuracy: 4604/10000 (46%)\n",
      "\n",
      "2\n"
     ]
    },
    {
     "name": "stderr",
     "output_type": "stream",
     "text": [
      "loss=1.4038478136062622 batch_id=781 Accuracy=47.22: 100%|█| 782/782 [00:36<00:0\n"
     ]
    },
    {
     "name": "stdout",
     "output_type": "stream",
     "text": [
      "\n",
      "Test set: Average loss: 1.3943, Accuracy: 5193/10000 (52%)\n",
      "\n",
      "3\n"
     ]
    },
    {
     "name": "stderr",
     "output_type": "stream",
     "text": [
      "loss=1.3733062744140625 batch_id=781 Accuracy=52.42: 100%|█| 782/782 [00:44<00:0\n"
     ]
    },
    {
     "name": "stdout",
     "output_type": "stream",
     "text": [
      "\n",
      "Test set: Average loss: 1.0730, Accuracy: 6129/10000 (61%)\n",
      "\n",
      "4\n"
     ]
    },
    {
     "name": "stderr",
     "output_type": "stream",
     "text": [
      "loss=1.3032957315444946 batch_id=781 Accuracy=56.54: 100%|█| 782/782 [00:46<00:0\n"
     ]
    },
    {
     "name": "stdout",
     "output_type": "stream",
     "text": [
      "\n",
      "Test set: Average loss: 0.9879, Accuracy: 6568/10000 (66%)\n",
      "\n",
      "5\n"
     ]
    },
    {
     "name": "stderr",
     "output_type": "stream",
     "text": [
      "loss=0.794598400592804 batch_id=781 Accuracy=59.41: 100%|█| 782/782 [00:48<00:00\n"
     ]
    },
    {
     "name": "stdout",
     "output_type": "stream",
     "text": [
      "\n",
      "Test set: Average loss: 0.9310, Accuracy: 6747/10000 (67%)\n",
      "\n",
      "6\n"
     ]
    },
    {
     "name": "stderr",
     "output_type": "stream",
     "text": [
      "loss=1.077425479888916 batch_id=781 Accuracy=61.45: 100%|█| 782/782 [00:46<00:00\n"
     ]
    },
    {
     "name": "stdout",
     "output_type": "stream",
     "text": [
      "\n",
      "Test set: Average loss: 0.9116, Accuracy: 6827/10000 (68%)\n",
      "\n",
      "7\n"
     ]
    },
    {
     "name": "stderr",
     "output_type": "stream",
     "text": [
      "loss=0.7175000905990601 batch_id=781 Accuracy=63.42: 100%|█| 782/782 [00:48<00:0\n"
     ]
    },
    {
     "name": "stdout",
     "output_type": "stream",
     "text": [
      "\n",
      "Test set: Average loss: 0.8275, Accuracy: 7104/10000 (71%)\n",
      "\n",
      "8\n"
     ]
    },
    {
     "name": "stderr",
     "output_type": "stream",
     "text": [
      "loss=0.8193728923797607 batch_id=781 Accuracy=64.61: 100%|█| 782/782 [00:49<00:0\n"
     ]
    },
    {
     "name": "stdout",
     "output_type": "stream",
     "text": [
      "\n",
      "Test set: Average loss: 0.7542, Accuracy: 7383/10000 (74%)\n",
      "\n",
      "9\n"
     ]
    },
    {
     "name": "stderr",
     "output_type": "stream",
     "text": [
      "loss=1.1781092882156372 batch_id=781 Accuracy=65.32: 100%|█| 782/782 [00:51<00:0\n"
     ]
    },
    {
     "name": "stdout",
     "output_type": "stream",
     "text": [
      "\n",
      "Test set: Average loss: 0.7367, Accuracy: 7433/10000 (74%)\n",
      "\n",
      "10\n"
     ]
    },
    {
     "name": "stderr",
     "output_type": "stream",
     "text": [
      "loss=1.3658347129821777 batch_id=781 Accuracy=66.29: 100%|█| 782/782 [00:56<00:0\n"
     ]
    },
    {
     "name": "stdout",
     "output_type": "stream",
     "text": [
      "\n",
      "Test set: Average loss: 0.7697, Accuracy: 7433/10000 (74%)\n",
      "\n",
      "11\n"
     ]
    },
    {
     "name": "stderr",
     "output_type": "stream",
     "text": [
      "loss=1.4331800937652588 batch_id=781 Accuracy=67.45: 100%|█| 782/782 [00:56<00:0\n"
     ]
    },
    {
     "name": "stdout",
     "output_type": "stream",
     "text": [
      "\n",
      "Test set: Average loss: 0.7020, Accuracy: 7582/10000 (76%)\n",
      "\n",
      "12\n"
     ]
    },
    {
     "name": "stderr",
     "output_type": "stream",
     "text": [
      "loss=1.134873628616333 batch_id=781 Accuracy=67.97: 100%|█| 782/782 [00:58<00:00\n"
     ]
    },
    {
     "name": "stdout",
     "output_type": "stream",
     "text": [
      "\n",
      "Test set: Average loss: 0.7183, Accuracy: 7581/10000 (76%)\n",
      "\n",
      "13\n"
     ]
    },
    {
     "name": "stderr",
     "output_type": "stream",
     "text": [
      "loss=0.9734516143798828 batch_id=781 Accuracy=68.55: 100%|█| 782/782 [00:54<00:0\n"
     ]
    },
    {
     "name": "stdout",
     "output_type": "stream",
     "text": [
      "\n",
      "Test set: Average loss: 0.6914, Accuracy: 7557/10000 (76%)\n",
      "\n",
      "14\n"
     ]
    },
    {
     "name": "stderr",
     "output_type": "stream",
     "text": [
      "loss=0.944484531879425 batch_id=781 Accuracy=69.37: 100%|█| 782/782 [00:45<00:00\n"
     ]
    },
    {
     "name": "stdout",
     "output_type": "stream",
     "text": [
      "\n",
      "Test set: Average loss: 0.7075, Accuracy: 7593/10000 (76%)\n",
      "\n",
      "15\n"
     ]
    },
    {
     "name": "stderr",
     "output_type": "stream",
     "text": [
      "loss=0.8846458196640015 batch_id=781 Accuracy=69.90: 100%|█| 782/782 [00:39<00:0\n"
     ]
    },
    {
     "name": "stdout",
     "output_type": "stream",
     "text": [
      "\n",
      "Test set: Average loss: 0.6693, Accuracy: 7701/10000 (77%)\n",
      "\n",
      "16\n"
     ]
    },
    {
     "name": "stderr",
     "output_type": "stream",
     "text": [
      "loss=0.5492952466011047 batch_id=781 Accuracy=70.11: 100%|█| 782/782 [00:38<00:0\n"
     ]
    },
    {
     "name": "stdout",
     "output_type": "stream",
     "text": [
      "\n",
      "Test set: Average loss: 0.6331, Accuracy: 7832/10000 (78%)\n",
      "\n",
      "17\n"
     ]
    },
    {
     "name": "stderr",
     "output_type": "stream",
     "text": [
      "loss=1.6262816190719604 batch_id=781 Accuracy=70.67: 100%|█| 782/782 [00:41<00:0\n"
     ]
    },
    {
     "name": "stdout",
     "output_type": "stream",
     "text": [
      "\n",
      "Test set: Average loss: 0.6361, Accuracy: 7826/10000 (78%)\n",
      "\n",
      "18\n"
     ]
    },
    {
     "name": "stderr",
     "output_type": "stream",
     "text": [
      "loss=0.5116596817970276 batch_id=781 Accuracy=71.06: 100%|█| 782/782 [00:40<00:0\n"
     ]
    },
    {
     "name": "stdout",
     "output_type": "stream",
     "text": [
      "\n",
      "Test set: Average loss: 0.6253, Accuracy: 7846/10000 (78%)\n",
      "\n",
      "19\n"
     ]
    },
    {
     "name": "stderr",
     "output_type": "stream",
     "text": [
      "loss=1.4397834539413452 batch_id=781 Accuracy=71.54: 100%|█| 782/782 [00:38<00:0\n"
     ]
    },
    {
     "name": "stdout",
     "output_type": "stream",
     "text": [
      "\n",
      "Test set: Average loss: 0.5997, Accuracy: 7964/10000 (80%)\n",
      "\n",
      "20\n"
     ]
    },
    {
     "name": "stderr",
     "output_type": "stream",
     "text": [
      "loss=0.6980091333389282 batch_id=781 Accuracy=72.06: 100%|█| 782/782 [00:37<00:0\n"
     ]
    },
    {
     "name": "stdout",
     "output_type": "stream",
     "text": [
      "\n",
      "Test set: Average loss: 0.6140, Accuracy: 7869/10000 (79%)\n",
      "\n",
      "21\n"
     ]
    },
    {
     "name": "stderr",
     "output_type": "stream",
     "text": [
      "loss=0.9816020727157593 batch_id=781 Accuracy=72.35: 100%|█| 782/782 [00:37<00:0\n"
     ]
    },
    {
     "name": "stdout",
     "output_type": "stream",
     "text": [
      "\n",
      "Test set: Average loss: 0.5771, Accuracy: 8053/10000 (81%)\n",
      "\n",
      "22\n"
     ]
    },
    {
     "name": "stderr",
     "output_type": "stream",
     "text": [
      "loss=0.8938164710998535 batch_id=781 Accuracy=72.63: 100%|█| 782/782 [00:37<00:0\n"
     ]
    },
    {
     "name": "stdout",
     "output_type": "stream",
     "text": [
      "\n",
      "Test set: Average loss: 0.5703, Accuracy: 8052/10000 (81%)\n",
      "\n",
      "23\n"
     ]
    },
    {
     "name": "stderr",
     "output_type": "stream",
     "text": [
      "loss=1.3695602416992188 batch_id=781 Accuracy=72.74: 100%|█| 782/782 [00:44<00:0\n"
     ]
    },
    {
     "name": "stdout",
     "output_type": "stream",
     "text": [
      "\n",
      "Test set: Average loss: 0.5817, Accuracy: 8020/10000 (80%)\n",
      "\n",
      "24\n"
     ]
    },
    {
     "name": "stderr",
     "output_type": "stream",
     "text": [
      "loss=0.5839904546737671 batch_id=781 Accuracy=72.78: 100%|█| 782/782 [00:29<00:0\n"
     ]
    },
    {
     "name": "stdout",
     "output_type": "stream",
     "text": [
      "\n",
      "Test set: Average loss: 0.6044, Accuracy: 7907/10000 (79%)\n",
      "\n",
      "25\n"
     ]
    },
    {
     "name": "stderr",
     "output_type": "stream",
     "text": [
      "loss=0.8143808841705322 batch_id=781 Accuracy=73.47: 100%|█| 782/782 [00:28<00:0\n"
     ]
    },
    {
     "name": "stdout",
     "output_type": "stream",
     "text": [
      "\n",
      "Test set: Average loss: 0.5925, Accuracy: 7994/10000 (80%)\n",
      "\n",
      "26\n"
     ]
    },
    {
     "name": "stderr",
     "output_type": "stream",
     "text": [
      "loss=0.9397359490394592 batch_id=781 Accuracy=73.41: 100%|█| 782/782 [00:26<00:0\n"
     ]
    },
    {
     "name": "stdout",
     "output_type": "stream",
     "text": [
      "\n",
      "Test set: Average loss: 0.5640, Accuracy: 8054/10000 (81%)\n",
      "\n",
      "27\n"
     ]
    },
    {
     "name": "stderr",
     "output_type": "stream",
     "text": [
      "loss=1.2687121629714966 batch_id=781 Accuracy=73.86: 100%|█| 782/782 [00:27<00:0\n"
     ]
    },
    {
     "name": "stdout",
     "output_type": "stream",
     "text": [
      "\n",
      "Test set: Average loss: 0.5663, Accuracy: 8073/10000 (81%)\n",
      "\n",
      "28\n"
     ]
    },
    {
     "name": "stderr",
     "output_type": "stream",
     "text": [
      "loss=0.9542284607887268 batch_id=781 Accuracy=74.10: 100%|█| 782/782 [00:25<00:0\n"
     ]
    },
    {
     "name": "stdout",
     "output_type": "stream",
     "text": [
      "\n",
      "Test set: Average loss: 0.6098, Accuracy: 7933/10000 (79%)\n",
      "\n",
      "29\n"
     ]
    },
    {
     "name": "stderr",
     "output_type": "stream",
     "text": [
      "loss=0.7712061405181885 batch_id=781 Accuracy=74.28: 100%|█| 782/782 [00:25<00:0\n"
     ]
    },
    {
     "name": "stdout",
     "output_type": "stream",
     "text": [
      "\n",
      "Test set: Average loss: 0.5359, Accuracy: 8175/10000 (82%)\n",
      "\n",
      "30\n"
     ]
    },
    {
     "name": "stderr",
     "output_type": "stream",
     "text": [
      "loss=0.83130943775177 batch_id=781 Accuracy=74.59: 100%|█| 782/782 [00:28<00:00,\n"
     ]
    },
    {
     "name": "stdout",
     "output_type": "stream",
     "text": [
      "\n",
      "Test set: Average loss: 0.5327, Accuracy: 8199/10000 (82%)\n",
      "\n",
      "31\n"
     ]
    },
    {
     "name": "stderr",
     "output_type": "stream",
     "text": [
      "loss=0.715196967124939 batch_id=781 Accuracy=74.84: 100%|█| 782/782 [00:27<00:00\n"
     ]
    },
    {
     "name": "stdout",
     "output_type": "stream",
     "text": [
      "\n",
      "Test set: Average loss: 0.5645, Accuracy: 8152/10000 (82%)\n",
      "\n",
      "32\n"
     ]
    },
    {
     "name": "stderr",
     "output_type": "stream",
     "text": [
      "loss=1.1297940015792847 batch_id=781 Accuracy=74.88: 100%|█| 782/782 [00:24<00:0\n"
     ]
    },
    {
     "name": "stdout",
     "output_type": "stream",
     "text": [
      "\n",
      "Test set: Average loss: 0.5450, Accuracy: 8157/10000 (82%)\n",
      "\n",
      "33\n"
     ]
    },
    {
     "name": "stderr",
     "output_type": "stream",
     "text": [
      "loss=1.029753565788269 batch_id=781 Accuracy=75.18: 100%|█| 782/782 [00:27<00:00\n"
     ]
    },
    {
     "name": "stdout",
     "output_type": "stream",
     "text": [
      "\n",
      "Test set: Average loss: 0.4998, Accuracy: 8302/10000 (83%)\n",
      "\n",
      "34\n"
     ]
    },
    {
     "name": "stderr",
     "output_type": "stream",
     "text": [
      "loss=0.4920450448989868 batch_id=781 Accuracy=75.30: 100%|█| 782/782 [00:24<00:0\n"
     ]
    },
    {
     "name": "stdout",
     "output_type": "stream",
     "text": [
      "\n",
      "Test set: Average loss: 0.5134, Accuracy: 8270/10000 (83%)\n",
      "\n",
      "35\n"
     ]
    },
    {
     "name": "stderr",
     "output_type": "stream",
     "text": [
      "loss=0.9288721084594727 batch_id=781 Accuracy=75.36: 100%|█| 782/782 [00:25<00:0\n"
     ]
    },
    {
     "name": "stdout",
     "output_type": "stream",
     "text": [
      "\n",
      "Test set: Average loss: 0.5122, Accuracy: 8278/10000 (83%)\n",
      "\n",
      "36\n"
     ]
    },
    {
     "name": "stderr",
     "output_type": "stream",
     "text": [
      "loss=0.4819714426994324 batch_id=781 Accuracy=75.29: 100%|█| 782/782 [00:25<00:0\n"
     ]
    },
    {
     "name": "stdout",
     "output_type": "stream",
     "text": [
      "\n",
      "Test set: Average loss: 0.5012, Accuracy: 8267/10000 (83%)\n",
      "\n",
      "37\n"
     ]
    },
    {
     "name": "stderr",
     "output_type": "stream",
     "text": [
      "loss=0.656170129776001 batch_id=781 Accuracy=75.57: 100%|█| 782/782 [00:24<00:00\n"
     ]
    },
    {
     "name": "stdout",
     "output_type": "stream",
     "text": [
      "\n",
      "Test set: Average loss: 0.5180, Accuracy: 8234/10000 (82%)\n",
      "\n",
      "38\n"
     ]
    },
    {
     "name": "stderr",
     "output_type": "stream",
     "text": [
      "loss=0.9347673654556274 batch_id=781 Accuracy=76.08: 100%|█| 782/782 [00:25<00:0\n"
     ]
    },
    {
     "name": "stdout",
     "output_type": "stream",
     "text": [
      "\n",
      "Test set: Average loss: 0.5226, Accuracy: 8214/10000 (82%)\n",
      "\n",
      "39\n"
     ]
    },
    {
     "name": "stderr",
     "output_type": "stream",
     "text": [
      "loss=0.8540305495262146 batch_id=781 Accuracy=76.21: 100%|█| 782/782 [00:26<00:0\n"
     ]
    },
    {
     "name": "stdout",
     "output_type": "stream",
     "text": [
      "\n",
      "Test set: Average loss: 0.5145, Accuracy: 8258/10000 (83%)\n",
      "\n",
      "40\n"
     ]
    },
    {
     "name": "stderr",
     "output_type": "stream",
     "text": [
      "loss=0.6189147233963013 batch_id=781 Accuracy=76.03: 100%|█| 782/782 [00:25<00:0\n"
     ]
    },
    {
     "name": "stdout",
     "output_type": "stream",
     "text": [
      "\n",
      "Test set: Average loss: 0.5001, Accuracy: 8317/10000 (83%)\n",
      "\n"
     ]
    }
   ],
   "source": [
    "from train import train,test\n",
    "device = torch.device(\"mps\")\n",
    "model = Net().to(device)\n",
    "optimizer = optim.SGD(model.parameters(), lr=0.01, momentum=0.9)\n",
    "train_losses = []\n",
    "test_losses = []\n",
    "train_acc = []\n",
    "test_acc = []\n",
    "for epoch in range(1, 41):\n",
    "    print(epoch)\n",
    "    train_loss,train_accuracy=train(model, device, train_loader, optimizer, epoch)\n",
    "    test_loss,test_accuracy=test(model, device, test_loader)\n",
    "    train_losses.append(train_loss)\n",
    "    test_losses.append(test_loss)\n",
    "    train_acc.append(train_accuracy)\n",
    "    test_acc.append(test_accuracy)"
   ]
  },
  {
   "cell_type": "code",
   "execution_count": null,
   "id": "f8d85ab8",
   "metadata": {},
   "outputs": [],
   "source": []
  }
 ],
 "metadata": {
  "kernelspec": {
   "display_name": "Python 3 (ipykernel)",
   "language": "python",
   "name": "python3"
  },
  "language_info": {
   "codemirror_mode": {
    "name": "ipython",
    "version": 3
   },
   "file_extension": ".py",
   "mimetype": "text/x-python",
   "name": "python",
   "nbconvert_exporter": "python",
   "pygments_lexer": "ipython3",
   "version": "3.10.8"
  }
 },
 "nbformat": 4,
 "nbformat_minor": 5
}
